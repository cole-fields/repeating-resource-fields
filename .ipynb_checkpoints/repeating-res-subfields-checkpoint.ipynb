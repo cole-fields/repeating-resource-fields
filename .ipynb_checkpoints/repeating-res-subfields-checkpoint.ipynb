{
 "cells": [
  {
   "cell_type": "code",
   "execution_count": 2,
   "id": "9d2bead6",
   "metadata": {},
   "outputs": [],
   "source": [
    "import json"
   ]
  },
  {
   "cell_type": "markdown",
   "id": "f2dc4b27",
   "metadata": {},
   "source": [
    "### Load metadata from package_show."
   ]
  },
  {
   "cell_type": "code",
   "execution_count": 3,
   "id": "b13b4732",
   "metadata": {},
   "outputs": [],
   "source": [
    "with open('seamounts.json', 'r') as f:\n",
    "    data_dict = json.load(f)"
   ]
  },
  {
   "cell_type": "code",
   "execution_count": 4,
   "id": "e5cb9aee",
   "metadata": {},
   "outputs": [
    {
     "data": {
      "text/plain": [
       "4"
      ]
     },
     "execution_count": 4,
     "metadata": {},
     "output_type": "execute_result"
    }
   ],
   "source": [
    "data_dict.get('num_resources')"
   ]
  },
  {
   "cell_type": "code",
   "execution_count": 5,
   "id": "aca411a7",
   "metadata": {},
   "outputs": [
    {
     "data": {
      "text/plain": [
       "[]"
      ]
     },
     "execution_count": 5,
     "metadata": {},
     "output_type": "execute_result"
    }
   ],
   "source": [
    "data_dict['resources'][0]['attribute']"
   ]
  },
  {
   "cell_type": "code",
   "execution_count": 6,
   "id": "ac91ac04",
   "metadata": {},
   "outputs": [],
   "source": [
    "resource_composite = {'restricted', 'attribute'}"
   ]
  },
  {
   "cell_type": "code",
   "execution_count": 8,
   "id": "4564f1fc",
   "metadata": {},
   "outputs": [
    {
     "name": "stdout",
     "output_type": "stream",
     "text": [
      "**************************************************\n",
      "RESOURCE POSITION: 0\n",
      "RESOURCE FIELD: restricted\n",
      "[{'allowed_users': '', 'level': 'registered'}]\n",
      "RESOURCE FIELD: attribute\n",
      "[]\n",
      "**************************************************\n",
      "RESOURCE POSITION: 1\n",
      "RESOURCE FIELD: restricted\n",
      "[{'allowed_users': '', 'level': 'registered'}]\n",
      "RESOURCE FIELD: attribute\n",
      "[{'coded_values': '', 'column_name': '', 'column_type': '', 'description': '', 'units': ''}]\n",
      "**************************************************\n",
      "RESOURCE POSITION: 2\n",
      "RESOURCE FIELD: restricted\n",
      "None\n",
      "RESOURCE FIELD: attribute\n",
      "None\n",
      "**************************************************\n",
      "RESOURCE POSITION: 3\n",
      "RESOURCE FIELD: restricted\n",
      "[{'allowed_users': '', 'level': 'registered'}]\n",
      "RESOURCE FIELD: attribute\n",
      "[{'coded_values': '', 'column_name': 'objectid', 'column_type': 'ObjectId', 'description': 'Unique id field', 'units': ''}, {'coded_values': 'UN## = unnamed at time of publication', 'column_name': 'name', 'column_type': 'Text', 'description': 'Name of seamount', 'units': ''}, {'coded_values': 'metres', 'column_name': 'depth', 'column_type': 'Integer', 'description': 'The measurement from the waters surface to the seamount summit', 'units': ''}, {'coded_values': '', 'column_name': 'lat', 'column_type': 'Float', 'description': 'Latitude of summit', 'units': ''}, {'coded_values': '', 'column_name': 'long', 'column_type': 'Float', 'description': 'Longitude of summit', 'units': ''}, {'coded_values': 'metres', 'column_name': 'elevation', 'column_type': 'Float', 'description': 'The measurement from the seafloor to the summit', 'units': ''}, {'coded_values': '', 'column_name': 'shape', 'column_type': 'Geometry', 'description': 'Geospatial field defining a geometry as one or more ordered coordinates', 'units': ''}]\n"
     ]
    }
   ],
   "source": [
    "for i in range(len(data_dict['resources'])):\n",
    "    print('*' * 50)\n",
    "    print(\"RESOURCE POSITION: {}\".format(i))\n",
    "    for f in resource_composite:\n",
    "        print(\"RESOURCE FIELD: {}\".format(f))\n",
    "        print(data_dict['resources'][i].get(f))"
   ]
  },
  {
   "cell_type": "code",
   "execution_count": 9,
   "id": "4039dc53",
   "metadata": {},
   "outputs": [],
   "source": [
    "# https://github.com/ckan/ckanext-scheming/blob/899a3bce5f5ac05bd4e612213ec9138b536f3076/ckanext/scheming/plugins.py#L329\n",
    "def expand_form_composite(data, fieldnames):\n",
    "    \"\"\"\n",
    "    when submitting dataset/resource form composite fields look like\n",
    "    \"field-0-subfield...\" convert these to lists of dicts\n",
    "    \"\"\"\n",
    "    # if \"field\" exists, don't look for \"field-0-subfield\"\n",
    "    print(\"FIELDNAMES: {}\".format(fieldnames))\n",
    "    fieldnames -= set(data)\n",
    "    if not fieldnames:\n",
    "        print(\"Returning here.\")\n",
    "        return\n",
    "    indexes = {}\n",
    "    for key in sorted(data):\n",
    "        print(\"KEY LOOP KEY: {}\".format(key))\n",
    "        if '-' not in key:\n",
    "            continue\n",
    "        parts = key.split('-')\n",
    "        if parts[0] not in fieldnames:\n",
    "            continue\n",
    "        if parts[1] not in indexes:\n",
    "            indexes[parts[1]] = len(indexes)\n",
    "        comp = data.setdefault(parts[0], [])\n",
    "        parts[1] = indexes[parts[1]]\n",
    "        print(\"PARTS: {}\".format(parts))\n",
    "        try:\n",
    "            try:\n",
    "                comp[int(parts[1])]['-'.join(parts[2:])] = data[key]\n",
    "                del data[key]\n",
    "            except IndexError:\n",
    "                comp.append({})\n",
    "                comp[int(parts[1])]['-'.join(parts[2:])] = data[key]\n",
    "                del data[key]\n",
    "        except (IndexError, ValueError):\n",
    "            pass  # best-effort only"
   ]
  },
  {
   "cell_type": "markdown",
   "id": "cc3d5b58",
   "metadata": {},
   "source": [
    "### Run expand_form_composite with copy of resource_composite dictionary\n",
    "* As far as I can tell, this is an easy fix. \n",
    "* The third resource has an attribute field with a list of dictionaries in the metadata. This is the expected format for ckanext-scheming with a repeating_subfield.\n",
    "* Using a copy of dict, all of the resources will be checked using the resource_composite dictionary."
   ]
  },
  {
   "cell_type": "code",
   "execution_count": 10,
   "id": "861fc166",
   "metadata": {},
   "outputs": [
    {
     "name": "stdout",
     "output_type": "stream",
     "text": [
      "**************************************************\n",
      "RESOURCE POSITION: 0\n",
      "ABOUT TO EXPAND: b976e76a-43d6-4009-84a8-5a7788434769\n",
      "RESOURCE_COMPOSITE IN LOOP: {'restricted', 'attribute'}\n",
      "FIELDNAMES: {'restricted', 'attribute'}\n",
      "Returning here.\n",
      "**************************************************\n",
      "RESOURCE POSITION: 1\n",
      "ABOUT TO EXPAND: a14f2446-a5b8-4c65-bf9b-ae47658dccad\n",
      "RESOURCE_COMPOSITE IN LOOP: {'restricted', 'attribute'}\n",
      "FIELDNAMES: {'restricted', 'attribute'}\n",
      "Returning here.\n",
      "**************************************************\n",
      "RESOURCE POSITION: 2\n",
      "ABOUT TO EXPAND: 05331ad3-791f-4a95-bc78-02a776aca4bd\n",
      "RESOURCE_COMPOSITE IN LOOP: {'restricted', 'attribute'}\n",
      "FIELDNAMES: {'restricted', 'attribute'}\n",
      "KEY LOOP KEY: attr_data\n",
      "KEY LOOP KEY: bbox\n",
      "KEY LOOP KEY: cache_last_updated\n",
      "KEY LOOP KEY: cache_url\n",
      "KEY LOOP KEY: change_description_resource\n",
      "KEY LOOP KEY: codespace_version\n",
      "KEY LOOP KEY: created\n",
      "KEY LOOP KEY: data_format\n",
      "KEY LOOP KEY: datastore_active\n",
      "KEY LOOP KEY: description\n",
      "KEY LOOP KEY: disclaimer\n",
      "KEY LOOP KEY: disclaimer_url\n",
      "KEY LOOP KEY: filepath\n",
      "KEY LOOP KEY: format\n",
      "KEY LOOP KEY: geometry_type\n",
      "KEY LOOP KEY: hash\n",
      "KEY LOOP KEY: id\n",
      "KEY LOOP KEY: last_modified\n",
      "KEY LOOP KEY: layer_description\n",
      "KEY LOOP KEY: layer_name\n",
      "KEY LOOP KEY: locale\n",
      "KEY LOOP KEY: map_preview_link\n",
      "KEY LOOP KEY: metadata_modified\n",
      "KEY LOOP KEY: mimetype\n",
      "KEY LOOP KEY: mimetype_inner\n",
      "KEY LOOP KEY: name\n",
      "KEY LOOP KEY: package_id\n",
      "KEY LOOP KEY: position\n",
      "KEY LOOP KEY: projection_code\n",
      "KEY LOOP KEY: projection_codespace\n",
      "KEY LOOP KEY: projection_text\n",
      "KEY LOOP KEY: projection_wkt\n",
      "KEY LOOP KEY: resource_type\n",
      "KEY LOOP KEY: size\n",
      "KEY LOOP KEY: spatial\n",
      "KEY LOOP KEY: spatial_type\n",
      "KEY LOOP KEY: state\n",
      "KEY LOOP KEY: title\n",
      "KEY LOOP KEY: tracking_summary\n",
      "KEY LOOP KEY: url\n",
      "KEY LOOP KEY: url_type\n",
      "**************************************************\n",
      "RESOURCE POSITION: 3\n",
      "ABOUT TO EXPAND: 367b3936-9508-4119-a78b-41bb132054af\n",
      "RESOURCE_COMPOSITE IN LOOP: {'restricted', 'attribute'}\n",
      "FIELDNAMES: {'restricted', 'attribute'}\n",
      "Returning here.\n"
     ]
    }
   ],
   "source": [
    "counter = 0\n",
    "for res in data_dict['resources']:\n",
    "    print('*' * 50)\n",
    "    print(\"RESOURCE POSITION: {}\".format(counter))\n",
    "    print(\"ABOUT TO EXPAND: {}\".format(res.get('id')))\n",
    "    print(\"RESOURCE_COMPOSITE IN LOOP: {}\".format(resource_composite))\n",
    "    expand_form_composite(res, resource_composite.copy())\n",
    "    counter += 1"
   ]
  },
  {
   "cell_type": "markdown",
   "id": "997d1fd2",
   "metadata": {},
   "source": [
    "### Run without copy of resource_composite\n",
    "* When the form is submitted, fieldnames is mutated during iteration and so after the first iteration, the code returns if the dictionary is empty. \n",
    "* Should use a copy of the dictionary is order to ensure that subsequent resources are processed."
   ]
  },
  {
   "cell_type": "code",
   "execution_count": 11,
   "id": "785b47c1",
   "metadata": {},
   "outputs": [
    {
     "name": "stdout",
     "output_type": "stream",
     "text": [
      "**************************************************\n",
      "RESOURCE POSITION: 0\n",
      "ABOUT TO EXPAND: b976e76a-43d6-4009-84a8-5a7788434769\n",
      "RESOURCE_COMPOSITE IN LOOP: {'restricted', 'attribute'}\n",
      "FIELDNAMES: {'restricted', 'attribute'}\n",
      "Returning here.\n",
      "**************************************************\n",
      "RESOURCE POSITION: 1\n",
      "ABOUT TO EXPAND: a14f2446-a5b8-4c65-bf9b-ae47658dccad\n",
      "RESOURCE_COMPOSITE IN LOOP: set()\n",
      "FIELDNAMES: set()\n",
      "Returning here.\n",
      "**************************************************\n",
      "RESOURCE POSITION: 2\n",
      "ABOUT TO EXPAND: 05331ad3-791f-4a95-bc78-02a776aca4bd\n",
      "RESOURCE_COMPOSITE IN LOOP: set()\n",
      "FIELDNAMES: set()\n",
      "Returning here.\n",
      "**************************************************\n",
      "RESOURCE POSITION: 3\n",
      "ABOUT TO EXPAND: 367b3936-9508-4119-a78b-41bb132054af\n",
      "RESOURCE_COMPOSITE IN LOOP: set()\n",
      "FIELDNAMES: set()\n",
      "Returning here.\n"
     ]
    }
   ],
   "source": [
    "counter = 0\n",
    "for res in data_dict['resources']:\n",
    "    print('*' * 50)\n",
    "    print(\"RESOURCE POSITION: {}\".format(counter))\n",
    "    print(\"ABOUT TO EXPAND: {}\".format(res.get('id')))\n",
    "    print(\"RESOURCE_COMPOSITE IN LOOP: {}\".format(resource_composite))\n",
    "    expand_form_composite(res, resource_composite)\n",
    "    counter += 1"
   ]
  }
 ],
 "metadata": {
  "kernelspec": {
   "display_name": "Python 3 (ipykernel)",
   "language": "python",
   "name": "python3"
  },
  "language_info": {
   "codemirror_mode": {
    "name": "ipython",
    "version": 3
   },
   "file_extension": ".py",
   "mimetype": "text/x-python",
   "name": "python",
   "nbconvert_exporter": "python",
   "pygments_lexer": "ipython3",
   "version": "3.10.4"
  }
 },
 "nbformat": 4,
 "nbformat_minor": 5
}
